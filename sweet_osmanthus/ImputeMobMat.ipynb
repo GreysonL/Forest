{
 "cells": [
  {
   "cell_type": "code",
   "execution_count": 3,
   "metadata": {},
   "outputs": [],
   "source": [
    "import os\n",
    "import sys\n",
    "import math\n",
    "import numpy as np\n",
    "import pandas as pd\n",
    "import scipy.stats as stat\n",
    "from itertools import groupby\n",
    "from datetime import datetime\n",
    "import matplotlib.pyplot as plt\n",
    "import scipy.spatial.distance as distance"
   ]
  },
  {
   "cell_type": "code",
   "execution_count": 4,
   "metadata": {
    "scrolled": true
   },
   "outputs": [
    {
     "data": {
      "text/plain": [
       "array([[1.0, 948.055864753215, 3565.402359677842, ..., 949.0237548467895,\n",
       "        3564.1139644674113, 1551110104.256],\n",
       "       [2.0, 949.0237548467895, 3564.1139644674113, ...,\n",
       "        949.0237548467895, 3564.1139644674113, 1551110164.256],\n",
       "       [1.0, 928.264824921849, 3549.67340103698, ..., 940.1803864818896,\n",
       "        3565.6110297359446, 1551110994.256],\n",
       "       ...,\n",
       "       [2.0, 948.0584332063293, 3567.214112856589, ...,\n",
       "        948.0584332063293, 3567.214112856589, 1552066144.256],\n",
       "       [1.0, 948.0584332063293, 3567.214112856589, ...,\n",
       "        943.4723908924575, 3566.0055093469723, 1552066154.256],\n",
       "       [2.0, 943.4723908924575, 3566.0055093469723, ...,\n",
       "        943.4723908924575, 3566.0055093469723, 1552066214.256]],\n",
       "      dtype=object)"
      ]
     },
     "execution_count": 4,
     "metadata": {},
     "output_type": "execute_result"
    }
   ],
   "source": [
    "MobMat = np.load(\"MobMat.npy\")\n",
    "MobMat"
   ]
  },
  {
   "cell_type": "code",
   "execution_count": 5,
   "metadata": {},
   "outputs": [
    {
     "data": {
      "text/plain": [
       "(1043, 7)"
      ]
     },
     "execution_count": 5,
     "metadata": {},
     "output_type": "execute_result"
    }
   ],
   "source": [
    "MobMat.shape"
   ]
  },
  {
   "cell_type": "code",
   "execution_count": 6,
   "metadata": {},
   "outputs": [
    {
     "data": {
      "image/png": "[encoded data removed]",
      "text/plain": [
       "<Figure size 432x288 with 1 Axes>"
      ]
     },
     "metadata": {
      "needs_background": "light"
     },
     "output_type": "display_data"
    }
   ],
   "source": [
    "for i in range(np.shape(MobMat)[0]):\n",
    "  if MobMat[i,0]==1:\n",
    "    plt.plot([MobMat[i,1], MobMat[i,4]], [MobMat[i,2], MobMat[i,5]], 'k-', lw=1)\n",
    "  if MobMat[i,0]==2:\n",
    "    plt.plot(MobMat[i,1],MobMat[i,2],\"+\",ms=10)\n",
    "plt.show()"
   ]
  },
  {
   "cell_type": "markdown",
   "metadata": {},
   "source": [
    "## Define small functions in SOGP"
   ]
  },
  {
   "cell_type": "code",
   "execution_count": 7,
   "metadata": {},
   "outputs": [],
   "source": [
    "## x = [t,g], where t is timestamp in seconds and g is x/y in meters\n",
    "## period: 1 day = 24*60*60 = 86400s 1 week = 86400s*7 = 604800s\n",
    "\n",
    "l1 = 30\n",
    "l2 = 30\n",
    "l3 = 10\n",
    "a1 = 10\n",
    "a2 = 10\n",
    "b1 = 0.2\n",
    "b2 = 0.2\n",
    "b3 = 0.6\n",
    "num = 15\n",
    "sigma2=2\n",
    "tol=0.05\n",
    "d=100\n",
    "\n",
    "## Locally Periodic Kernel： https://www.cs.toronto.edu/~duvenaud/cookbook/\n",
    "def K0(x1,x2):\n",
    "  k1 = np.exp(-abs(x1[0]-x2[0])/l1)*np.exp(-(np.sin(abs(x1[0]-x2[0])/86400*math.pi))**2/a1)\n",
    "  k2 = np.exp(-abs(x1[0]-x2[0])/l2)*np.exp(-(np.sin(abs(x1[0]-x2[0])/604800*math.pi))**2/a2)\n",
    "  k3 = np.exp(-abs(x1[1]-x2[1])/l3)\n",
    "  return b1*k1+b2*k2+b3*k3\n",
    "\n",
    "## similarity matrix between bv's\n",
    "def update_K(bv,t,K,X):\n",
    "  if t==0:\n",
    "    mat = np.array([1])\n",
    "  else:\n",
    "    d = np.shape(K)[0]\n",
    "    row = np.ones(d)\n",
    "    column = np.ones([d+1,1])\n",
    "    if X.ndim==1:\n",
    "      for i in range(d):\n",
    "        row[i] = column[i,0] = K0(X[t],X[bv[i]])\n",
    "    else:\n",
    "      for i in range(d):\n",
    "        row[i] = column[i,0] = K0(X[t,:],X[bv[i],:])\n",
    "    mat = np.hstack([np.vstack([K,row]),column])\n",
    "  return mat\n",
    "\n",
    "## similarity vector between the t'th input with all bv's, t starts from 0 here\n",
    "def update_k(bv,t,X):\n",
    "  d = len(bv) \n",
    "  if d==0:\n",
    "    out = np.array([0])\n",
    "  if d>=1:\n",
    "    out = np.zeros(d)\n",
    "    if X.ndim==1:\n",
    "      for i in range(d):\n",
    "        out[i] = K0(X[t],X[bv[i]])\n",
    "    else:\n",
    "      for i in range(d):\n",
    "        out[i] = K0(X[t,:],X[bv[i],:])\n",
    "  return out\n",
    "\n",
    "def update_e_hat(Q,k):\n",
    "  if np.shape(Q)[0]==0:\n",
    "    out = np.array([0])\n",
    "  else:\n",
    "    out = np.dot(Q,k)\n",
    "  return out\n",
    "\n",
    "def update_gamma(k,e_hat):\n",
    "  return 1-np.dot(k,e_hat)\n",
    "\n",
    "def update_q(t,k,alpha,sigmax,Y):\n",
    "  if t==0:\n",
    "    out = Y[t]/sigmax\n",
    "  else:\n",
    "    out = (Y[t]-np.dot(k,alpha))/sigmax\n",
    "  return out\n",
    "\n",
    "def update_s_hat(C,k,e_hat):\n",
    "  return np.dot(C,k)+e_hat\n",
    "\n",
    "def update_eta(gamma,sigmax):\n",
    "  r = -1/sigmax\n",
    "  return 1/(1+gamma*r)\n",
    "\n",
    "def update_alpha_hat(alpha,q,eta,s_hat):\n",
    "  return alpha+q*eta*s_hat\n",
    "\n",
    "def update_c_hat(C,sigmax,eta,s_hat):\n",
    "  r = -1/sigmax\n",
    "  return C+r*eta*np.outer(s_hat,s_hat)\n",
    "\n",
    "def update_s(C,k):\n",
    "  if np.shape(C)[0]==0:\n",
    "    s = np.array([1])\n",
    "  else:\n",
    "    temp = np.dot(C,k)\n",
    "    s = np.append(temp,1)\n",
    "  return s\n",
    "\n",
    "def update_alpha(alpha,q,s):\n",
    "  T_alpha = np.append(alpha,0)\n",
    "  new_alpha = T_alpha + q*s\n",
    "  return new_alpha\n",
    "\n",
    "def update_c(C,sigmax,s):\n",
    "  d = np.shape(C)[0]\n",
    "  if d==0:\n",
    "    U_c = np.array([0])\n",
    "  else:\n",
    "    U_c = np.hstack([np.vstack([C,np.zeros(d)]),np.zeros([d+1,1])])\n",
    "  r = -1/sigmax\n",
    "  new_c = U_c+r*np.outer(s,s)\n",
    "  return new_c\n",
    "\n",
    "def update_Q(Q,gamma,e_hat):\n",
    "  d = np.shape(Q)[0]\n",
    "  if d==0:\n",
    "    out = np.array([1])\n",
    "  else:\n",
    "    temp = np.append(e_hat,-1)\n",
    "    new_Q = np.hstack([np.vstack([Q,np.zeros(d)]),np.zeros([d+1,1])])\n",
    "    out = new_Q + 1/gamma*np.outer(temp,temp)\n",
    "  return out\n",
    "  \n",
    "def update_alpha_vec(alpha,Q,C):\n",
    "  t = len(alpha)-1\n",
    "  return alpha[:t]-alpha[t]/(C[t,t]+Q[t,t])*(Q[t,:t]+C[t,:t])\n",
    "\n",
    "def update_c_mat(C,Q):\n",
    "  t = np.shape(C)[0]-1\n",
    "  return C[:t,:t]+np.outer(Q[t,:t],Q[t,:t])/Q[t,t]-np.outer(Q[t,:t]+C[t,:t],Q[t,:t]+C[t,:t])/(Q[t,t]+C[t,t])\n",
    "\n",
    "def update_q_mat(Q):\n",
    "  t = np.shape(Q)[0]-1\n",
    "  return Q[:t,:t]-np.outer(Q[t,:t],Q[t,:t])/Q[t,t]\n",
    "\n",
    "def update_s_mat(k_mat,s_mat,index,Q):\n",
    "  k_mat =  (k_mat[index,:])[:,index]\n",
    "  s_mat =  (s_mat[index,:])[:,index]\n",
    "  step1 = k_mat-k_mat.dot(s_mat).dot(k_mat)\n",
    "  step2 = (step1[:d,:])[:,:d]\n",
    "  step3 = Q - Q.dot(step2).dot(Q)\n",
    "  return step3"
   ]
  },
  {
   "cell_type": "markdown",
   "metadata": {},
   "source": [
    "## Define SOGP function"
   ]
  },
  {
   "cell_type": "code",
   "execution_count": 8,
   "metadata": {},
   "outputs": [],
   "source": [
    "def SOGP(X,Y,sigma2,tol,d,Q=[],C=[],alpha=[],bv=[]):\n",
    "  n = len(Y)\n",
    "  I = 0 ## an indicator shows if it is the first time that the number of bvs hits d \n",
    "  for i in range(n):\n",
    "    k = update_k(bv,i,X)\n",
    "    if np.shape(C)[0]==0:\n",
    "      sigmax = 1+sigma2\n",
    "    else:\n",
    "      sigmax = 1+sigma2+k.dot(C).dot(k)\n",
    "    q = update_q(i,k,alpha,sigmax,Y)\n",
    "    r = -1/sigmax\n",
    "    e_hat = update_e_hat(Q,k)\n",
    "    gamma = update_gamma(k,e_hat)\n",
    "    if gamma<tol:\n",
    "      s = update_s_hat(C,k,e_hat)\n",
    "      eta = update_eta(gamma,sigmax)\n",
    "      alpha = update_alpha_hat(alpha,q,eta,s)\n",
    "      C = update_c_hat(C,sigmax,eta,s)\n",
    "    else:\n",
    "      s = update_s(C,k)\n",
    "      alpha = update_alpha(alpha,q,s)\n",
    "      C = update_c(C,sigmax,s)\n",
    "      Q = update_Q(Q,gamma,e_hat)\n",
    "      \n",
    "      bv = np.array(np.append(bv,i),dtype=int)\n",
    "      if len(bv)>=d:\n",
    "        I = I + 1\n",
    "      if I==1:\n",
    "        K = np.zeros([d,d])\n",
    "        if X.ndim==1:\n",
    "          for i in range(d):\n",
    "            for j in range(d):\n",
    "              K[i,j] = K0(X[bv[i]],X[bv[j]])\n",
    "        else:\n",
    "          for i in range(d):\n",
    "            for j in range(d):\n",
    "              K[i,j] = K0(X[bv[i],:],X[bv[j],:])\n",
    "        S = np.linalg.inv(np.linalg.inv(C)+K)\n",
    "        \n",
    "      if len(bv)>d:\n",
    "        alpha_vec = update_alpha_vec(alpha,Q,C)\n",
    "        c_mat = update_c_mat(C,Q)\n",
    "        q_mat = update_q_mat(Q)\n",
    "        s_mat = np.hstack([np.vstack([S,np.zeros(d)]),np.zeros([d+1,1])])\n",
    "        s_mat[d,d] = 1/sigma2\n",
    "        k_mat = update_K(bv,i,K,X)\n",
    "        eps = np.zeros(d)\n",
    "        for j in range(d):\n",
    "          eps[j] = alpha_vec[j]/(q_mat[j,j]+c_mat[j,j])-s_mat[j,j]/q_mat[j,j]+np.log(1+c_mat[j,j]/q_mat[j,j])\n",
    "        loc = np.where(eps == np.min(eps))[0]\n",
    "        bv = np.array(np.delete(bv,loc),dtype=int)\n",
    "        if loc==0:\n",
    "          index = np.append(np.arange(1,d+1),0)\n",
    "        else:\n",
    "          index = np.append(np.append(np.arange(0,loc),np.arange(loc+1,d+1)),loc)\n",
    "        alpha = update_alpha_vec(alpha[index],(Q[index,:])[:,index],(C[index,:])[:,index])\n",
    "        \n",
    "        C = update_c_mat((C[index,:])[:,index],(Q[index,:])[:,index])\n",
    "        Q = update_q_mat((Q[index,:])[:,index])\n",
    "        S = update_s_mat(k_mat,s_mat,index,Q)\n",
    "        K = (k_mat[index[:d],:])[:,index[:d]]\n",
    "  output = {'bv':bv,'alpha':alpha,'Q':Q,'C':C}\n",
    "  return output"
   ]
  },
  {
   "cell_type": "markdown",
   "metadata": {},
   "source": [
    "## Put everything together to obtain BV set"
   ]
  },
  {
   "cell_type": "code",
   "execution_count": 9,
   "metadata": {},
   "outputs": [],
   "source": [
    "def BV_select(MobMat,sigma2,tol,d):\n",
    "  mean_x = (MobMat[:,1]+MobMat[:,4])/2\n",
    "  mean_y = (MobMat[:,2]+MobMat[:,5])/2\n",
    "  mean_t = (MobMat[:,3]+MobMat[:,6])/2\n",
    "  X = np.transpose(np.vstack((mean_t,mean_x)))\n",
    "  Y = mean_y\n",
    "  result1 = SOGP(X,Y,sigma2,tol,d)['bv']\n",
    "  X = np.transpose(np.vstack((mean_t,mean_y)))\n",
    "  Y = mean_x\n",
    "  result2 = SOGP(X,Y,sigma2,tol,d)['bv']\n",
    "  index = np.unique(np.append(result1,result2))\n",
    "  BV_set = MobMat[index,:]\n",
    "  return {'BV_set':BV_set,'BV_index':index}"
   ]
  },
  {
   "cell_type": "code",
   "execution_count": 10,
   "metadata": {},
   "outputs": [
    {
     "data": {
      "image/png": "[encoded data removed]",
      "text/plain": [
       "<Figure size 432x288 with 1 Axes>"
      ]
     },
     "metadata": {
      "needs_background": "light"
     },
     "output_type": "display_data"
    }
   ],
   "source": [
    "BV_set = BV_select(MobMat,sigma2,tol,d)[\"BV_set\"]\n",
    "for i in range(np.shape(BV_set)[0]):\n",
    "  if BV_set[i,0]==1:\n",
    "    plt.plot([BV_set[i,1],BV_set[i,4]], [BV_set[i,2], BV_set[i,5]], 'k-', lw=1)\n",
    "  if BV_set[i,0]==2:\n",
    "    plt.plot(BV_set[i,1],BV_set[i,2],\"+\",ms=10)\n",
    "plt.show()"
   ]
  },
  {
   "cell_type": "code",
   "execution_count": 11,
   "metadata": {},
   "outputs": [
    {
     "data": {
      "text/plain": [
       "(160, 7)"
      ]
     },
     "execution_count": 11,
     "metadata": {},
     "output_type": "execute_result"
    }
   ],
   "source": [
    "BV_set.shape"
   ]
  },
  {
   "cell_type": "markdown",
   "metadata": {},
   "source": [
    "## Impute the missing trajectories using BV"
   ]
  },
  {
   "cell_type": "code",
   "execution_count": 12,
   "metadata": {},
   "outputs": [],
   "source": [
    "def create_tables(MobMat, BV_set):\n",
    "  n = np.shape(MobMat)[0]\n",
    "  m = np.shape(BV_set)[0]\n",
    "  index = [BV_set[i,0]==1 for i in range(m)]\n",
    "  flight_table = BV_set[index,:]\n",
    "  index = [BV_set[i,0]==2 for i in range(m)]\n",
    "  pause_table = BV_set[index,:]\n",
    "  mis_table = np.zeros(8)\n",
    "  for i in range(n-1):\n",
    "    if MobMat[i+1,3]!=MobMat[i,6]:\n",
    "      ## also record if it's flight/pause before and after the missing interval\n",
    "      mov = np.array([MobMat[i,4],MobMat[i,5],MobMat[i,6],MobMat[i+1,1],MobMat[i+1,2],MobMat[i+1,3],MobMat[i,0],MobMat[i+1,0]])\n",
    "      mis_table = np.vstack((mis_table,mov))\n",
    "  mis_table = np.delete(mis_table,0,0)\n",
    "  return flight_table, pause_table, mis_table"
   ]
  },
  {
   "cell_type": "code",
   "execution_count": 13,
   "metadata": {},
   "outputs": [],
   "source": [
    "def K1(method,current_t,current_x,current_y,BV_set):\n",
    "  mean_x = ((BV_set[:,1] + BV_set[:,4])/2).astype(float)\n",
    "  mean_y = ((BV_set[:,2] + BV_set[:,5])/2).astype(float)\n",
    "  mean_t = ((BV_set[:,3] + BV_set[:,6])/2).astype(float)\n",
    "  if method==\"TL\":\n",
    "    k1 = np.exp(-abs(current_t-mean_t)/l1)*np.exp(-(np.sin(abs(current_t-mean_t)/86400*math.pi))**2/a1)\n",
    "    k2 = np.exp(-abs(current_t-mean_t)/l2)*np.exp(-(np.sin(abs(current_t-mean_t)/604800*math.pi))**2/a2)\n",
    "    return b1/(b1+b2)*k1+b2/(b1+b2)*k2\n",
    "  if method==\"GL\":\n",
    "    d = np.sqrt((current_x-mean_x)**2+(current_y-mean_y)**2)\n",
    "    return np.exp(-d/g)\n",
    "  if method==\"GLC\":\n",
    "    k1 = np.exp(-abs(current_t-mean_t)/l1)*np.exp(-(np.sin(abs(current_t-mean_t)/86400*math.pi))**2/a1)\n",
    "    k2 = np.exp(-abs(current_t-mean_t)/l2)*np.exp(-(np.sin(abs(current_t-mean_t)/604800*math.pi))**2/a2)\n",
    "    d = np.sqrt((current_x-mean_x)**2+(current_y-mean_y)**2)\n",
    "    k3 = np.exp(-d/l3)\n",
    "    return b1*k1+b2*k2+b3*k3"
   ]
  },
  {
   "cell_type": "code",
   "execution_count": 14,
   "metadata": {},
   "outputs": [],
   "source": [
    "def I_flight(method,current_t,current_x,current_y,dest_t,dest_x,dest_y,BV_set,z):\n",
    "  K = K1(method,current_t,current_x,current_y,BV_set)\n",
    "  flight_K = K[BV_set[:,0]==1]\n",
    "  pause_K = K[BV_set[:,0]==2]\n",
    "  sorted_flight = np.sort(flight_K)[::-1]\n",
    "  sorted_pause = np.sort(pause_K)[::-1]\n",
    "  p0 = np.mean(sorted_flight[0:num])/(np.mean(sorted_flight[0:num])+np.mean(sorted_pause[0:num]))\n",
    "  d_dest = np.sqrt((dest_x-current_x)**2+(dest_y-current_y)**2)\n",
    "  v_dest = d_dest/(dest_t-current_t+0.0001)\n",
    "  ## design an exponential function here to adjust the probability based on the speed needed\n",
    "  ## p = p0*exp(|v-2|+/s)  v=2--p=p0   v=14--p=1\n",
    "  if p0 < 1e-5:\n",
    "    p0 = 1e-5\n",
    "  if p0 > 1-1e-5:\n",
    "    p0 = 1-1e-5\n",
    "  s = -12/np.log(p0)\n",
    "  p1 = min(1,p0*np.exp(min(max(0,v_dest-2)/s,1e2)))\n",
    "  out = stat.bernoulli.rvs(p1,size=z)\n",
    "  return out"
   ]
  },
  {
   "cell_type": "code",
   "execution_count": 15,
   "metadata": {},
   "outputs": [],
   "source": [
    "def adjust_direction(delta_x,delta_y,start_x,start_y,end_x,end_y):\n",
    "  direction = np.array([end_x-start_x,end_y-start_y])\n",
    "  inner_product = np.inner(direction,np.array([delta_x,delta_y]))\n",
    "  if inner_product>=0:\n",
    "    return delta_x,delta_y\n",
    "  else:\n",
    "    return -delta_x,-delta_y"
   ]
  },
  {
   "cell_type": "code",
   "execution_count": 39,
   "metadata": {},
   "outputs": [],
   "source": [
    "def ImputeGPS(MobMat,BV_set,method,switch):\n",
    "  flight_table, pause_table, mis_table = create_tables(MobMat, BV_set)\n",
    "  imp_x0 = np.array([]); imp_x1 = np.array([])\n",
    "  imp_y0 = np.array([]); imp_y1 = np.array([])\n",
    "  imp_t0 = np.array([]); imp_t1 = np.array([])\n",
    "  imp_s = np.array([])\n",
    "  \n",
    "  for i in range(mis_table.shape[0]):\n",
    "     ## if a person remains at the same place at the begining and end of missing, just assume he satys there all the time\n",
    "    if mis_table[i,0]==mis_table[i,3] and mis_table[i,1]==mis_table[i,4]:\n",
    "      imp_s = np.append(imp_s,2)\n",
    "      imp_x0 = np.append(imp_x0, mis_table[i,0])\n",
    "      imp_x1 = np.append(imp_x1, mis_table[i,3])\n",
    "      imp_y0 = np.append(imp_y0, mis_table[i,1])\n",
    "      imp_y1 = np.append(imp_y1, mis_table[i,4])\n",
    "      imp_t0 = np.append(imp_t0, mis_table[i,2])\n",
    "      imp_t1 = np.append(imp_t1, mis_table[i,5])\n",
    "    else:\n",
    "      ## solve the problem that a person has a trajectory like flight/pause/flight/pause/flight...\n",
    "      ## we want it more like flght/flight/flight/pause/pause/pause/flight/flight...\n",
    "      ## start from two ends, we make it harder to change the current pause/flight status by drawing multiple random \n",
    "      ## variables form bin(p0) and require them to be all 0/1\n",
    "      ## \"switch\" is the number of random variables\n",
    "      start_t = mis_table[i,2]; end_t = mis_table[i,5]\n",
    "      start_x = mis_table[i,0]; end_x = mis_table[i,3]\n",
    "      start_y = mis_table[i,1]; end_y = mis_table[i,4]\n",
    "      start_s = mis_table[i,6]; end_s = mis_table[i,7]\n",
    "      \n",
    "      while start_t < end_t:\n",
    "        I0 = I_flight(method,start_t,start_x,start_y,end_t,end_x,end_y,BV_set,switch)\n",
    "        if (sum(I0==1)==switch and start_s==2) or (sum(I0==0)<switch and start_s==1):\n",
    "          weight = K1(method,start_t,start_x,start_y,flight_table)                                                  \n",
    "          normalize_w = weight/sum(weight)\n",
    "          flight_index = np.random.choice(flight_table.shape[0], p=normalize_w)\n",
    "          delta_x = (flight_table[flight_index,4]-flight_table[flight_index,1])\n",
    "          delta_y = (flight_table[flight_index,5]-flight_table[flight_index,2])\n",
    "          delta_t = (flight_table[flight_index,6]-flight_table[flight_index,3])\n",
    "          if(start_t + delta_t > end_t):\n",
    "            temp = delta_t\n",
    "            delta_t = end_t-start_t\n",
    "            delta_x = delta_x*delta_t/temp\n",
    "            delta_y = delta_y*delta_t/temp\n",
    "          delta_x,delta_y = adjust_direction(delta_x,delta_y,start_x,start_y,end_x,end_y)\n",
    "          if end_t>start_t:\n",
    "            imp_s = np.append(imp_s,1)\n",
    "            imp_t0 = np.append(imp_t0,start_t)\n",
    "            current_t = start_t + delta_t\n",
    "            imp_t1 = np.append(imp_t1,current_t)\n",
    "            imp_x0 = np.append(imp_x0,start_x)\n",
    "            current_x = (end_t-current_t)/(end_t-start_t)*(start_x+delta_x)+(current_t-start_t)/(end_t-start_t)*end_x\n",
    "            imp_x1 = np.append(imp_x1,current_x)\n",
    "            imp_y0 = np.append(imp_y0,start_y)\n",
    "            current_y = (end_t-current_t)/(end_t-start_t)*(start_y+delta_y)+(current_t-start_t)/(end_t-start_t)*end_y\n",
    "            imp_y1 = np.append(imp_y1,current_y)\n",
    "            start_x = current_x; start_y = current_y; start_t = current_t  \n",
    "        else:\n",
    "          weight = K1(method,start_t,start_x,start_y,pause_table)\n",
    "          normalize_w = weight/sum(weight)\n",
    "          pause_index = np.random.choice(pause_table.shape[0], p=normalize_w)\n",
    "          delta_t = pause_table[pause_index,6]-pause_table[pause_index,3]\n",
    "          if(start_t+delta_t>end_t):\n",
    "            delta_t = end_t-start_t\n",
    "          if end_t>start_t:\n",
    "            imp_s = np.append(imp_s,2)\n",
    "            imp_t0 = np.append(imp_t0,start_t)\n",
    "            current_t = start_t + delta_t\n",
    "            imp_t1 = np.append(imp_t1,current_t)\n",
    "            imp_x0 = np.append(imp_x0,start_x)\n",
    "            imp_x1 = np.append(imp_x1,start_x)\n",
    "            imp_y0 = np.append(imp_y0,start_y)\n",
    "            imp_y1 = np.append(imp_y1,start_y)\n",
    "            start_t = current_t\n",
    "        \n",
    "        I1 = I_flight(method,end_t,end_x,end_y,start_t,start_x,start_y,BV_set,switch)\n",
    "        if (sum(I1==1)==switch and end_s==2) or (sum(I1==0)<switch and end_s==1):\n",
    "          weight = K1(method,end_t,end_x,end_y,flight_table)                                                  \n",
    "          normalize_w = weight/sum(weight)\n",
    "          flight_index = np.random.choice(flight_table.shape[0], p=normalize_w)\n",
    "          delta_x = (flight_table[flight_index,4]-flight_table[flight_index,1])\n",
    "          delta_y = (flight_table[flight_index,5]-flight_table[flight_index,2])\n",
    "          delta_t = (flight_table[flight_index,6]-flight_table[flight_index,3])\n",
    "          if(start_t + delta_t > end_t):\n",
    "            temp = delta_t\n",
    "            delta_t = end_t-start_t\n",
    "            delta_x = delta_x*delta_t/temp\n",
    "            delta_y = delta_y*delta_t/temp\n",
    "          delta_x,delta_y = adjust_direction(delta_x,delta_y,end_x,end_y,start_x,start_y)\n",
    "          if end_t>start_t:\n",
    "            imp_s = np.append(imp_s,1)\n",
    "            imp_t1 = np.append(imp_t1,end_t)\n",
    "            current_t = end_t - delta_t\n",
    "            imp_t0 = np.append(imp_t0,current_t)\n",
    "            imp_x1 = np.append(imp_x1,end_x)\n",
    "            current_x = (end_t-current_t)/(end_t-start_t)*start_x+(current_t-start_t)/(end_t-start_t)*(end_x+delta_x)\n",
    "            imp_x0 = np.append(imp_x0,current_x)\n",
    "            imp_y1 = np.append(imp_y1,end_y)\n",
    "            current_y = (end_t-current_t)/(end_t-start_t)*start_y+(current_t-start_t)/(end_t-start_t)*(end_y+delta_y)\n",
    "            imp_y0 = np.append(imp_y0,current_y)\n",
    "            end_x = current_x; end_y = current_y; end_t = current_t  \n",
    "        else:\n",
    "          weight = K1(method,end_t,end_x,end_y,pause_table)\n",
    "          normalize_w = weight/sum(weight)\n",
    "          pause_index = np.random.choice(pause_table.shape[0], p=normalize_w)\n",
    "          delta_t = pause_table[pause_index,6]-pause_table[pause_index,3]\n",
    "          if(start_t+delta_t>end_t):\n",
    "            delta_t = end_t-start_t\n",
    "          if end_t>start_t:\n",
    "            imp_s = np.append(imp_s,2)\n",
    "            imp_t1 = np.append(imp_t1,end_t)\n",
    "            current_t = end_t - delta_t\n",
    "            imp_t0 = np.append(imp_t0,current_t)\n",
    "            imp_x0 = np.append(imp_x0,end_x)\n",
    "            imp_x1 = np.append(imp_x1,end_x)\n",
    "            imp_y0 = np.append(imp_y0,end_y)\n",
    "            imp_y1 = np.append(imp_y1,end_y)\n",
    "            end_t = current_t\n",
    "  imp_table=np.stack([imp_s,imp_x0,imp_y0,imp_t0,imp_x1,imp_y1,imp_t1], axis=1)\n",
    "  imp_table = imp_table[imp_table[:,3].argsort()].astype(float)\n",
    "  return imp_table"
   ]
  },
  {
   "cell_type": "code",
   "execution_count": 17,
   "metadata": {},
   "outputs": [],
   "source": [
    "def ExistKnot(mat,r,w):\n",
    "  n = mat.shape[0]\n",
    "  if n>1:\n",
    "    beta1 = (mat[n-1,1]-mat[0,1])/(mat[n-1,0]-mat[0,0]+0.0001)\n",
    "    beta0 = mat[0,1]-beta1*mat[0,0]\n",
    "    ## line ax+by+c=0\n",
    "    a = beta1\n",
    "    b = -1\n",
    "    c = beta0\n",
    "    d = abs(a*mat[:,0]+b*mat[:,1]+np.ones(n)*c)/np.sqrt(a**2+b**2+0.0001)\n",
    "    if max(d)<w:\n",
    "      return 0, None\n",
    "    else:\n",
    "      return 1, np.argmax(d)\n",
    "  else:\n",
    "    return 0, None"
   ]
  },
  {
   "cell_type": "code",
   "execution_count": 94,
   "metadata": {},
   "outputs": [],
   "source": [
    "def Imp2traj(imp_table,MobMat,itrvl=10,r=None,w=None,h=None):\n",
    "  if r is None:\n",
    "    r = np.sqrt(itrvl)\n",
    "  if h is None:\n",
    "    h = r\n",
    "  if w is None:\n",
    "    w = 3*r\n",
    "  \n",
    "  mis_table = np.zeros(8)\n",
    "  for i in range(np.shape(MobMat)[0]-1):\n",
    "    if MobMat[i+1,3]!=MobMat[i,6]:\n",
    "      ## also record if it's flight/pause before and after the missing interval\n",
    "      mov = np.array([MobMat[i,4],MobMat[i,5],MobMat[i,6],MobMat[i+1,1],MobMat[i+1,2],MobMat[i+1,3],MobMat[i,0],MobMat[i+1,0]])\n",
    "      mis_table = np.vstack((mis_table,mov))\n",
    "  mis_table = np.delete(mis_table,0,0)\n",
    "  \n",
    "  traj = []\n",
    "  for k in range(mis_table.shape[0]):\n",
    "    index = (imp_table[:,3]>=mis_table[k,2])*(imp_table[:,6]<=mis_table[k,5])\n",
    "    temp = imp_table[index,:]\n",
    "    a = 0\n",
    "    b = 1 \n",
    "    while a < temp.shape[0]:\n",
    "      if b < temp.shape[0]:\n",
    "        if temp[b,0] == temp[a,0]:\n",
    "          b = b + 1\n",
    "      if b==temp.shape[0] or temp[min(b,temp.shape[0]-1),0]!=temp[a,0]:\n",
    "        start = a\n",
    "        end = b-1\n",
    "        a = b\n",
    "        b = b+1\n",
    "        if temp[start,0]==2:\n",
    "          traj.append([2,temp[start,1],temp[start,2],temp[start,3],temp[end,4],temp[end,5],temp[end,6]])\n",
    "        elif end == start:\n",
    "          traj.append([1,temp[start,1],temp[start,2],temp[start,3],temp[end,4],temp[end,5],temp[end,6]])\n",
    "        else:\n",
    "          mat = np.vstack((temp[start,1:4],temp[np.arange(start,end+1),4:7]))\n",
    "          mat = np.append(mat,np.arange(0,mat.shape[0]).reshape(mat.shape[0],1),1)\n",
    "          complete = 0 \n",
    "          knots = [0,mat.shape[0]-1]\n",
    "          while complete == 0:\n",
    "            mat_list = []\n",
    "            for i in range(len(knots)-1):\n",
    "              mat_list.append(mat[knots[i]:min(knots[i+1]+1,mat.shape[0]-1),:])\n",
    "            knot_yes = np.empty(len(mat_list))\n",
    "            knot_pos = np.empty(len(mat_list))\n",
    "            for i in range(len(mat_list)):\n",
    "              knot_yes[i] , knot_pos[i] = ExistKnot(mat_list[i],r,w)\n",
    "            if sum(knot_yes)==0:\n",
    "              complete = 1  \n",
    "            else:\n",
    "              for i in range(len(mat_list)):\n",
    "                if knot_yes[i]==1:\n",
    "                  knots.append(int((mat_list[i])[int(knot_pos[i]),3]))\n",
    "              knots.sort()\n",
    "          out = []\n",
    "          for j in range(len(knots)-1):\n",
    "            traj.append([1,mat[knots[j],0],mat[knots[j],1],mat[knots[j],2],mat[knots[j+1],0],mat[knots[j+1],1],mat[knots[j+1],2]])\n",
    "  traj = np.array(traj)\n",
    "  traj = np.hstack((traj,np.zeros((traj.shape[0],1))))\n",
    "  MobMat = np.hstack((MobMat,np.ones((MobMat.shape[0],1))))\n",
    "  full_traj = np.vstack((traj,MobMat))\n",
    "  return(full_traj[full_traj[:,3].argsort()].astype(float))     "
   ]
  },
  {
   "cell_type": "code",
   "execution_count": 40,
   "metadata": {},
   "outputs": [
    {
     "data": {
      "text/plain": [
       "(21818, 7)"
      ]
     },
     "execution_count": 40,
     "metadata": {},
     "output_type": "execute_result"
    }
   ],
   "source": [
    "imp_table= ImputeGPS(MobMat,BV_set,\"GLC\",4)\n",
    "imp_table.shape"
   ]
  },
  {
   "cell_type": "code",
   "execution_count": 95,
   "metadata": {},
   "outputs": [
    {
     "data": {
      "text/plain": [
       "(5036, 8)"
      ]
     },
     "execution_count": 95,
     "metadata": {},
     "output_type": "execute_result"
    }
   ],
   "source": [
    "traj = Imp2traj(imp_table,MobMat)\n",
    "traj.shape"
   ]
  },
  {
   "cell_type": "code",
   "execution_count": 96,
   "metadata": {},
   "outputs": [
    {
     "data": {
      "text/plain": [
       "array([[1.00000000e+00, 9.48055865e+02, 3.56540236e+03, ...,\n",
       "        3.56411396e+03, 1.55111010e+09, 1.00000000e+00],\n",
       "       [2.00000000e+00, 9.49023755e+02, 3.56411396e+03, ...,\n",
       "        3.56411396e+03, 1.55111016e+09, 1.00000000e+00],\n",
       "       [2.00000000e+00, 9.49023755e+02, 3.56411396e+03, ...,\n",
       "        3.56411396e+03, 1.55111079e+09, 0.00000000e+00],\n",
       "       ...,\n",
       "       [2.00000000e+00, 9.48058433e+02, 3.56721411e+03, ...,\n",
       "        3.56721411e+03, 1.55206614e+09, 1.00000000e+00],\n",
       "       [1.00000000e+00, 9.48058433e+02, 3.56721411e+03, ...,\n",
       "        3.56600551e+03, 1.55206615e+09, 1.00000000e+00],\n",
       "       [2.00000000e+00, 9.43472391e+02, 3.56600551e+03, ...,\n",
       "        3.56600551e+03, 1.55206621e+09, 1.00000000e+00]])"
      ]
     },
     "execution_count": 96,
     "metadata": {},
     "output_type": "execute_result"
    }
   ],
   "source": [
    "traj"
   ]
  },
  {
   "cell_type": "code",
   "execution_count": 97,
   "metadata": {},
   "outputs": [
    {
     "data": {
      "text/plain": [
       "0.8800145115720172"
      ]
     },
     "execution_count": 97,
     "metadata": {},
     "output_type": "execute_result"
    }
   ],
   "source": [
    "sp=np.sqrt((traj[:,1]-traj[:,4])**2+(traj[:,2]-traj[:,5])**2)/(traj[:,6]-traj[:,3])\n",
    "sp0=sp[sp>0]\n",
    "np.mean(sp0)"
   ]
  },
  {
   "cell_type": "code",
   "execution_count": 100,
   "metadata": {},
   "outputs": [
    {
     "data": {
      "image/png": "[encoded data removed]",
      "text/plain": [
       "<Figure size 432x288 with 1 Axes>"
      ]
     },
     "metadata": {
      "needs_background": "light"
     },
     "output_type": "display_data"
    }
   ],
   "source": [
    "for i in range(np.shape(traj)[0]):\n",
    "  if traj[i,0]==1:\n",
    "    plt.plot([traj[i,1],traj[i,4]], [traj[i,2], traj[i,5]], 'k-', lw=1)\n",
    "  if traj[i,0]==2:\n",
    "    plt.plot(traj[i,1],traj[i,2],\"+\",ms=10)\n",
    "plt.show()"
   ]
  },
  {
   "cell_type": "code",
   "execution_count": 101,
   "metadata": {},
   "outputs": [],
   "source": [
    "np.save(\"FullMobMat\",traj)"
   ]
  },
  {
   "cell_type": "code",
   "execution_count": 103,
   "metadata": {},
   "outputs": [],
   "source": [
    "traj = pd.DataFrame(traj)\n",
    "traj.columns = [\"status\",\"x0\",\"y0\",\"t0\",\"x1\",\"y1\",\"t1\",\"obs\"]\n",
    "traj.to_csv(\"MobMat.csv\")"
   ]
  },
  {
   "cell_type": "code",
   "execution_count": null,
   "metadata": {},
   "outputs": [],
   "source": []
  }
 ],
 "metadata": {
  "kernelspec": {
   "display_name": "Python 3",
   "language": "python",
   "name": "python3"
  },
  "language_info": {
   "codemirror_mode": {
    "name": "ipython",
    "version": 3
   },
   "file_extension": ".py",
   "mimetype": "text/x-python",
   "name": "python",
   "nbconvert_exporter": "python",
   "pygments_lexer": "ipython3",
   "version": "3.6.6"
  }
 },
 "nbformat": 4,
 "nbformat_minor": 2
}
