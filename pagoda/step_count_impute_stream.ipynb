{
 "cells": [
  {
   "cell_type": "code",
   "execution_count": 1,
   "metadata": {},
   "outputs": [],
   "source": [
    "import os\n",
    "import sys\n",
    "import time\n",
    "import pickle\n",
    "import numpy as np\n",
    "import pandas as pd\n",
    "from dateutil import tz\n",
    "from datetime import datetime,timedelta"
   ]
  },
  {
   "cell_type": "code",
   "execution_count": 2,
   "metadata": {},
   "outputs": [],
   "source": [
    "with open('empirical_steps.pickle', 'rb') as handle:\n",
    "  empirical_steps = pickle.load(handle)"
   ]
  },
  {
   "cell_type": "code",
   "execution_count": 3,
   "metadata": {},
   "outputs": [],
   "source": [
    "## 1. smooth to a certain Hz\n",
    "def smooth_data(data,hz):\n",
    "  t = datetime.fromtimestamp(data['timestamp'][0]/1000)\n",
    "  hr = t.hour\n",
    "  t0 = datetime.timestamp(t-timedelta(minutes=t.minute,seconds=t.second,microseconds=t.microsecond))*1000\n",
    "  t_seq = np.array(data['timestamp'])\n",
    "  ## first locate those active bouts (let min interval be s seconds)\n",
    "  num = np.floor((t_seq - t0)/(1/hz*1000))\n",
    "  j = 0; i = 1\n",
    "  new_data = []\n",
    "  while i<(len(t_seq)-1):\n",
    "    if num[i]==num[j]:\n",
    "      i = i + 1\n",
    "      if i == len(t_seq):\n",
    "        index = np.arange(j,i)\n",
    "        mean_x = np.mean(data['x'][index])\n",
    "        mean_y = np.mean(data['y'][index])\n",
    "        mean_z = np.mean(data['z'][index])\n",
    "        new_data.append([t0+1/hz*1000*num[i],mean_x,mean_y,mean_z])\n",
    "    else: \n",
    "      index = np.arange(j,i)\n",
    "      mean_x = np.mean(data['x'][index])\n",
    "      mean_y = np.mean(data['y'][index])\n",
    "      mean_z = np.mean(data['z'][index])\n",
    "      new_data.append([t0+1/hz*1000*num[i],mean_x,mean_y,mean_z])\n",
    "      j = i\n",
    "      i = i+1\n",
    "  new_data = np.array(new_data)\n",
    "  mag = np.sqrt(new_data[:,1]**2+new_data[:,2]**2+new_data[:,3]**2)\n",
    "  stamp = new_data[:,0]\n",
    "  return hr,t0,stamp,mag"
   ]
  },
  {
   "cell_type": "code",
   "execution_count": 4,
   "metadata": {},
   "outputs": [],
   "source": [
    "## 2. minute-wise step estimation funciton\n",
    "def step_est_min(stamp,mag,t0,hz,q,c):\n",
    "  if np.mean(mag)>8:\n",
    "    g = 9.8\n",
    "  else:\n",
    "    g = 1\n",
    "  h = max(np.percentile(mag,q),c*g)\n",
    "  output = []\n",
    "  for i in range(60):\n",
    "    index = (stamp>=t0+i*60*1000)*(stamp<t0+(i+1)*60*1000)\n",
    "    sub_mag = mag[index]\n",
    "    sub_stamp = stamp[index]\n",
    "    if len(sub_mag)<=1:\n",
    "      output.append([i,0,0,0])\n",
    "    else:\n",
    "      step = 0\n",
    "      current = min(sub_stamp)-350\n",
    "      for j in np.arange(1,len(sub_mag)):\n",
    "        if(sub_mag[j]>=h and sub_stamp[j]>=current+350):\n",
    "          step = step + 1\n",
    "          current = sub_stamp[j]\n",
    "      on_time = len(sub_mag)/hz\n",
    "      output.append([i,on_time,step,np.floor(step*60/on_time)])\n",
    "  output = pd.DataFrame(np.array(output))\n",
    "  output.columns = [\"min\",\"active_s\",\"step_obs\",\"step_infer\"]\n",
    "  return output"
   ]
  },
  {
   "cell_type": "code",
   "execution_count": 5,
   "metadata": {},
   "outputs": [],
   "source": [
    "## 3. check if there exists any walk within an interval\n",
    "def nearby_walk(data,k,h):\n",
    "  walk = (np.array(data['step_infer'])>h)*1\n",
    "  record = (np.array(data['active_s'])>0)*1\n",
    "  nearby = walk\n",
    "  active = record\n",
    "  n = data.shape[0]\n",
    "  for i in np.arange(1,k+1):\n",
    "    nearby = nearby + np.concatenate((walk[np.arange(i,n)],np.zeros(i))) + np.concatenate((np.zeros(i), walk[np.arange(0,n-i)]))\n",
    "    active = active + np.concatenate((record[np.arange(i,n)],np.zeros(i))) + np.concatenate((np.zeros(i), record[np.arange(0,n-i)]))\n",
    "  final = (np.array(active)>=1)*1\n",
    "  final[(active>=1)*(nearby==0)] = 1\n",
    "  final[(active>=1)*(nearby>=1)] = 2\n",
    "  return final"
   ]
  },
  {
   "cell_type": "code",
   "execution_count": 6,
   "metadata": {},
   "outputs": [],
   "source": [
    "## 4. impute the steps based on the output of nearby_walk\n",
    "def imp_steps(output,final,hr):\n",
    "  steps = np.zeros(output.shape[0])\n",
    "  for i in range(output.shape[0]):\n",
    "    if np.array(output['active_s'])[i]>5:\n",
    "      steps[i] = np.array(output['step_infer'])[i]\n",
    "    elif final[i] == 0:\n",
    "      r = np.random.choice(range(len(empirical_steps['no_records'][hr])),1)\n",
    "      steps[i] = empirical_steps['no_records'][hr][r]\n",
    "    elif final[i] == 1:\n",
    "      r = np.random.choice(range(len(empirical_steps['non_walk'][hr])),1)\n",
    "      steps[i] = empirical_steps['non_walk'][hr][r]\n",
    "    else:\n",
    "      r = np.random.choice(range(len(empirical_steps['walk'][hr])),1)\n",
    "      steps[i] = empirical_steps['walk'][hr][r]\n",
    "  return(sum(steps))    "
   ]
  },
  {
   "cell_type": "code",
   "execution_count": 7,
   "metadata": {},
   "outputs": [],
   "source": [
    "## 5. put everything together when read in a raw csv file\n",
    "def imp_hour(path,hz,q,c,k,h):\n",
    "  data = pd.read_csv(path)\n",
    "  hr,t0,stamp,mag = smooth_data(data,hz)\n",
    "  output = step_est_min(stamp,mag,t0,hz,q,c)\n",
    "  final = nearby_walk(output,k,h)\n",
    "  step = imp_steps(output,final,hr)\n",
    "  return t0,step"
   ]
  },
  {
   "cell_type": "code",
   "execution_count": 8,
   "metadata": {},
   "outputs": [
    {
     "data": {
      "text/plain": [
       "573.0"
      ]
     },
     "execution_count": 8,
     "metadata": {},
     "output_type": "execute_result"
    }
   ],
   "source": [
    "hz = 10; q=75; c=1.05; k=60; h=60\n",
    "path = \"C:/Users/glius/Downloads/beiwe_data/1s5wlcm6/accelerometer/2018-01-19 17_00_00.csv\"\n",
    "t0,step = imp_hour(path,hz,q,c,k,h)\n",
    "step"
   ]
  },
  {
   "cell_type": "code",
   "execution_count": 9,
   "metadata": {},
   "outputs": [
    {
     "data": {
      "text/plain": [
       "datetime.datetime(2018, 1, 19, 12, 0)"
      ]
     },
     "execution_count": 9,
     "metadata": {},
     "output_type": "execute_result"
    }
   ],
   "source": [
    "datetime.fromtimestamp(t0/1000)"
   ]
  },
  {
   "cell_type": "code",
   "execution_count": 42,
   "metadata": {},
   "outputs": [],
   "source": [
    "## 6. read in all the data from the folder one by one, and fill in the hours without records\n",
    "def hourly_step_count(data_path,output_path,hz,q,c,k,h):\n",
    "  for i in os.listdir(data_path):\n",
    "    result0 = []\n",
    "    t_vec = []\n",
    "    patient_path = data_path+\"/\"+i+\"/accelerometer/\"\n",
    "    for j in os.listdir(patient_path):\n",
    "      path = patient_path + j\n",
    "      t0,step = imp_hour(path,hz,q,c,k,h)\n",
    "      t1 = datetime.fromtimestamp(t0/1000)\n",
    "      t_vec.append(t0)\n",
    "      result0.append([t1.year,t1.month,t1.day,t1.hour,step])\n",
    "    t_vec = np.array(t_vec)\n",
    "    nrow = int((t_vec[-1]-t_vec[0])/(1000*60*60)+1)\n",
    "    result1 = []\n",
    "    m = 0\n",
    "    for k in range(nrow):\n",
    "      current_t = t_vec[0] + 1000*60*60*k\n",
    "      if current_t == t_vec[m]:\n",
    "        result1.append(result0[m])\n",
    "        m = m + 1\n",
    "      else:\n",
    "        stamp = datetime.fromtimestamp(current_t/1000)\n",
    "        r = np.random.choice(range(len(empirical_steps['no_records'][stamp.hour])),60)\n",
    "        step = sum(empirical_steps['no_records'][stamp.hour][r])\n",
    "        result1.append([stamp.year,stamp.month,stamp.day,stamp.hour,step])\n",
    "    result1 = pd.DataFrame(np.array(result1))\n",
    "    result1.columns = [\"year\",\"month\",\"day\",\"hour\",\"steps\"]\n",
    "    result1.to_csv(output_path + \"/\" + i + \".csv\", index=False)"
   ]
  },
  {
   "cell_type": "code",
   "execution_count": 43,
   "metadata": {},
   "outputs": [],
   "source": [
    "## test\n",
    "data_path = \"C:/Users/glius/Downloads/test_data\"\n",
    "output_path = \"C:/Users/glius/Downloads/test_output\"\n",
    "hourly_step_count(data_path,output_path,hz,q,c,k,h)"
   ]
  },
  {
   "cell_type": "code",
   "execution_count": 48,
   "metadata": {},
   "outputs": [
    {
     "data": {
      "text/plain": [
       "array([[3.19137573e-02, 3.35702538e+00, 6.68208599e-02],\n",
       "       [1.09705925e-02, 3.65123916e+00, 6.38616085e-02],\n",
       "       [1.59580708e-02, 4.14887238e+00, 5.88762760e-02],\n",
       "       [9.97328758e-03, 5.42555094e-01, 1.28618002e-01],\n",
       "       [8.97622108e-03, 1.08712173e+00, 1.30622387e-01],\n",
       "       [3.98921967e-03, 3.23136806e-01, 1.37631416e-01],\n",
       "       [5.98478317e-03, 2.36367702e-01, 1.03722572e-01],\n",
       "       [1.69551373e-02, 2.42750788e+00, 9.07573700e-02],\n",
       "       [8.97598267e-03, 2.52923822e+00, 7.08105564e-02],\n",
       "       [3.98945808e-03, 1.42219830e+00, 8.47733021e-02],\n",
       "       [4.98771667e-03, 1.00132227e+00, 1.05715752e-01],\n",
       "       [8.97574425e-03, 2.98901033e+00, 1.66554451e-01],\n",
       "       [1.49598122e-02, 5.42649078e+00, 5.98359108e-03],\n",
       "       [1.29656792e-02, 5.15225339e+00, 1.29661560e-02],\n",
       "       [4.98151779e-03, 1.29052687e+00, 3.04184914e-01],\n",
       "       [3.98969650e-03, 5.17616987e-01, 4.84703064e-01],\n",
       "       [8.97622108e-03, 7.09103823e-01, 3.24133873e-01],\n",
       "       [7.97820091e-03, 7.77921438e-01, 3.11166763e-01],\n",
       "       [3.49071026e-02, 6.58339810e+00, 5.58507442e-02],\n",
       "       [2.69293785e-02, 5.67981339e+00, 5.38561344e-02],\n",
       "       [4.98676300e-03, 6.02389574e-01, 1.65558815e-01],\n",
       "       [1.09696388e-02, 1.20477796e+00, 1.65557384e-01],\n",
       "       [1.79524422e-02, 4.22570276e+00, 1.25663757e-01],\n",
       "       [1.99470520e-02, 4.24066353e+00, 7.97846317e-02],\n",
       "       [1.39625072e-02, 2.27392054e+00, 1.33644819e-01],\n",
       "       [1.00009441e-02, 1.68050575e+00, 3.73701572e-01],\n",
       "       [8.97598267e-03, 2.02652431e+00, 2.75875807e-01],\n",
       "       [1.19681358e-02, 2.32941532e+00, 4.33284283e-01],\n",
       "       [1.09710693e-02, 1.56114697e+00, 1.65616512e-01],\n",
       "       [3.97610664e-03, 1.46816969e+00, 9.39533710e-02],\n",
       "       [4.97722626e-03, 1.48307228e+00, 1.51621103e-01],\n",
       "       [8.97574425e-03, 3.90256763e+00, 7.57958889e-02],\n",
       "       [7.98392296e-03, 2.09436870e+00, 1.56608105e-01],\n",
       "       [7.97891617e-03, 2.03652787e+00, 9.27805901e-02],\n",
       "       [6.98137283e-03, 2.17518425e+00, 1.22642994e-01]])"
      ]
     },
     "execution_count": 48,
     "metadata": {},
     "output_type": "execute_result"
    }
   ],
   "source": [
    "## At last, test the time used in each function\n",
    "def time_decompose(path,hz,q,c,k,h):\n",
    "  s0 = time.time()\n",
    "  data = pd.read_csv(path)\n",
    "  s1 = time.time()\n",
    "  hr,t0,stamp,mag = smooth_data(data,hz)\n",
    "  s2 = time.time()\n",
    "  output = step_est_min(stamp,mag,t0,hz,q,c)\n",
    "  final = nearby_walk(output,k,h)\n",
    "  step = imp_steps(output,final,hr)\n",
    "  s3 = time.time()\n",
    "  return s1-s0,s2-s1,s3-s2\n",
    "\n",
    "time_table=[]\n",
    "for i in os.listdir(data_path):\n",
    "  patient_path = data_path+\"/\"+i+\"/accelerometer/\"\n",
    "  for j in os.listdir(patient_path):\n",
    "    path = patient_path + j\n",
    "    g1,g2,g3 = time_decompose(path,hz,q,c,k,h)\n",
    "    time_table.append([g1,g2,g3])\n",
    "time_table = np.array(time_table)\n",
    "time_table"
   ]
  },
  {
   "cell_type": "code",
   "execution_count": 50,
   "metadata": {},
   "outputs": [
    {
     "data": {
      "text/plain": [
       "array([0.97142897, 0.97991659, 0.98228231, 0.7965323 , 0.88620177,\n",
       "       0.69528054, 0.68299549, 0.95751355, 0.96941902, 0.9412541 ,\n",
       "       0.90044883, 0.94453217, 0.99615536, 0.9949921 , 0.80673393,\n",
       "       0.51437143, 0.68038222, 0.70909239, 0.9864016 , 0.9859762 ,\n",
       "       0.77935332, 0.87220272, 0.96713076, 0.97702244, 0.93904372,\n",
       "       0.81411637, 0.87676095, 0.83952946, 0.89838058, 0.93746917,\n",
       "       0.90449403, 0.9787398 , 0.92713816, 0.95285636, 0.94375916])"
      ]
     },
     "execution_count": 50,
     "metadata": {},
     "output_type": "execute_result"
    }
   ],
   "source": [
    "time_table[:,1]/np.sum(time_table,axis=1)"
   ]
  },
  {
   "cell_type": "code",
   "execution_count": null,
   "metadata": {},
   "outputs": [],
   "source": []
  }
 ],
 "metadata": {
  "kernelspec": {
   "display_name": "Python 3",
   "language": "python",
   "name": "python3"
  },
  "language_info": {
   "codemirror_mode": {
    "name": "ipython",
    "version": 3
   },
   "file_extension": ".py",
   "mimetype": "text/x-python",
   "name": "python",
   "nbconvert_exporter": "python",
   "pygments_lexer": "ipython3",
   "version": "3.6.6"
  }
 },
 "nbformat": 4,
 "nbformat_minor": 2
}
