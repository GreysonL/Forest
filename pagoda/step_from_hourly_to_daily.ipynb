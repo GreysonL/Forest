{
 "cells": [
  {
   "cell_type": "code",
   "execution_count": 1,
   "metadata": {},
   "outputs": [],
   "source": [
    "import os\n",
    "import pandas as pd\n",
    "import numpy as np\n",
    "from datetime import datetime,timedelta \n",
    "from dateutil import tz\n",
    "import sys\n",
    "import matplotlib.pyplot as plt\n",
    "import seaborn as sns\n",
    "import pickle\n",
    "data_filepath = \"C:/Users/glius/Google Drive/HOPE/outputs\""
   ]
  },
  {
   "cell_type": "code",
   "execution_count": 2,
   "metadata": {},
   "outputs": [],
   "source": [
    "with open(data_filepath + '/speed1_all.pickle', 'rb') as handle:\n",
    "    speed1_all = pickle.load(handle)\n",
    "with open(data_filepath + '/speed2_all.pickle', 'rb') as handle:\n",
    "    speed2_all = pickle.load(handle)"
   ]
  },
  {
   "cell_type": "code",
   "execution_count": 3,
   "metadata": {},
   "outputs": [
    {
     "data": {
      "image/png": "[encoded data removed]",
      "text/plain": [
       "<Figure size 432x288 with 1 Axes>"
      ]
     },
     "metadata": {
      "needs_background": "light"
     },
     "output_type": "display_data"
    }
   ],
   "source": [
    "labels,data = speed1_all.keys(), list(speed1_all.values())\n",
    "plt.boxplot(data)\n",
    "plt.xticks(range(1, len(labels) + 1), labels)\n",
    "plt.ylim(-5,50)\n",
    "plt.show()"
   ]
  },
  {
   "cell_type": "code",
   "execution_count": 4,
   "metadata": {},
   "outputs": [],
   "source": [
    "import csv\n",
    "with open('speed1_all.csv', 'w', newline='') as f:\n",
    "    writer = csv.writer(f)\n",
    "    writer.writerows(data)"
   ]
  },
  {
   "cell_type": "code",
   "execution_count": 5,
   "metadata": {},
   "outputs": [
    {
     "data": {
      "text/plain": [
       "['1s5wlcm6.csv',\n",
       " '2n18iikg.csv',\n",
       " '3j2fdbb.csv',\n",
       " '4uu7odcm.csv',\n",
       " '5iv5o89o.csv',\n",
       " '7ijvywnb.csv',\n",
       " '8lqhw9ep.csv',\n",
       " '8r4hkqi6.csv',\n",
       " 'aej6wxh8.csv',\n",
       " 'akka6vtq.csv',\n",
       " 'behdfa31.csv',\n",
       " 'boai4zds.csv',\n",
       " 'btjka62m.csv',\n",
       " 'cpjgpdpc.csv',\n",
       " 'dglk2mak.csv',\n",
       " 'i5b2fdez.csv',\n",
       " 'j8soi1xe.csv',\n",
       " 'kzt9osem.csv',\n",
       " 'mk9ee8p4.csv',\n",
       " 'nnu1qurv.csv',\n",
       " 'nzvk7jwo.csv',\n",
       " 'o3ze4d97.csv',\n",
       " 'o912nw3y.csv',\n",
       " 'rccun.csv',\n",
       " 'rmtdpger.csv',\n",
       " 'see4r8y6.csv',\n",
       " 'srpx1ilr.csv',\n",
       " 't9xq7k8b.csv',\n",
       " 'ud1ic49g.csv',\n",
       " 'uiwlw4n5.csv',\n",
       " 'unlkfxnc.csv',\n",
       " 'vby6fos4.csv',\n",
       " 'xcdydxji.csv']"
      ]
     },
     "execution_count": 5,
     "metadata": {},
     "output_type": "execute_result"
    }
   ],
   "source": [
    "folder_path = data_filepath + \"/step_counts_hourly\"\n",
    "filenames = os.listdir(folder_path)\n",
    "filenames"
   ]
  },
  {
   "cell_type": "code",
   "execution_count": null,
   "metadata": {},
   "outputs": [],
   "source": [
    "K = 3\n",
    "for filename in filenames:\n",
    "  data = pd.read_csv(folder_path+\"/\"+filename)\n",
    "  daily_result = pd.DataFrame({\"id\":[],\"date\":[],\"imp_mean\":[],\"imp_var\":[]})\n",
    "  for i in np.unique(data.date):\n",
    "    sub_data = data[data.date==i]\n",
    "    daily_est = 0\n",
    "    daily_var = 0\n",
    "    for j in range(23):\n",
    "      if sum(j==sub_data.hour)==0:\n",
    "        speed2 = speed2_all[j]\n",
    "        r = np.random.choice(range(len(speed2)),K)\n",
    "        s = speed2[r]\n",
    "        imputed_steps = 60*s\n",
    "        hour_est =  np.mean(imputed_steps)\n",
    "        hour_var =  np.var(imputed_steps)\n",
    "      else:\n",
    "        hour_est = np.mean(sub_data.imp_mean[sub_data.hour==j])\n",
    "        hour_var = np.mean(sub_data.imp_var[sub_data.hour==j])\n",
    "      daily_est = daily_est + hour_est\n",
    "      daily_var = daily_var + hour_var\n",
    "    daily_result = daily_result.append({\"id\":np.array(sub_data.id)[0],\"date\":np.array(sub_data.date)[0],\"imp_mean\":daily_est,\"imp_var\":daily_var},ignore_index=True)\n",
    "  daily_result.to_csv(data_filepath + \"/step_counts_daily/\"+filename,index=False)  "
   ]
  },
  {
   "cell_type": "code",
   "execution_count": null,
   "metadata": {},
   "outputs": [],
   "source": []
  }
 ],
 "metadata": {
  "kernelspec": {
   "display_name": "Python 3",
   "language": "python",
   "name": "python3"
  },
  "language_info": {
   "codemirror_mode": {
    "name": "ipython",
    "version": 3
   },
   "file_extension": ".py",
   "mimetype": "text/x-python",
   "name": "python",
   "nbconvert_exporter": "python",
   "pygments_lexer": "ipython3",
   "version": "3.6.6"
  }
 },
 "nbformat": 4,
 "nbformat_minor": 2
}
