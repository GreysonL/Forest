{
 "cells": [
  {
   "cell_type": "code",
   "execution_count": 1,
   "metadata": {},
   "outputs": [],
   "source": [
    "import os\n",
    "import sys\n",
    "import time\n",
    "import itertools\n",
    "import numpy as np\n",
    "import pandas as pd\n",
    "from dateutil import tz\n",
    "from scipy import fftpack, stats\n",
    "from itertools import chain\n",
    "from datetime import datetime,timedelta"
   ]
  },
  {
   "cell_type": "code",
   "execution_count": 2,
   "metadata": {},
   "outputs": [
    {
     "data": {
      "text/html": [
       "<div>\n",
       "<style scoped>\n",
       "    .dataframe tbody tr th:only-of-type {\n",
       "        vertical-align: middle;\n",
       "    }\n",
       "\n",
       "    .dataframe tbody tr th {\n",
       "        vertical-align: top;\n",
       "    }\n",
       "\n",
       "    .dataframe thead th {\n",
       "        text-align: right;\n",
       "    }\n",
       "</style>\n",
       "<table border=\"1\" class=\"dataframe\">\n",
       "  <thead>\n",
       "    <tr style=\"text-align: right;\">\n",
       "      <th></th>\n",
       "      <th>timestamp</th>\n",
       "      <th>UTC time</th>\n",
       "      <th>accuracy</th>\n",
       "      <th>x</th>\n",
       "      <th>y</th>\n",
       "      <th>z</th>\n",
       "    </tr>\n",
       "  </thead>\n",
       "  <tbody>\n",
       "    <tr>\n",
       "      <th>0</th>\n",
       "      <td>1516467868973</td>\n",
       "      <td>2018-01-20T17:04:28.973</td>\n",
       "      <td>3</td>\n",
       "      <td>-0.186753</td>\n",
       "      <td>5.569083</td>\n",
       "      <td>7.245076</td>\n",
       "    </tr>\n",
       "    <tr>\n",
       "      <th>1</th>\n",
       "      <td>1516467869113</td>\n",
       "      <td>2018-01-20T17:04:29.113</td>\n",
       "      <td>3</td>\n",
       "      <td>-0.383084</td>\n",
       "      <td>5.674431</td>\n",
       "      <td>7.292961</td>\n",
       "    </tr>\n",
       "    <tr>\n",
       "      <th>2</th>\n",
       "      <td>1516467869133</td>\n",
       "      <td>2018-01-20T17:04:29.133</td>\n",
       "      <td>3</td>\n",
       "      <td>-0.565049</td>\n",
       "      <td>5.944984</td>\n",
       "      <td>7.723930</td>\n",
       "    </tr>\n",
       "    <tr>\n",
       "      <th>3</th>\n",
       "      <td>1516467869157</td>\n",
       "      <td>2018-01-20T17:04:29.157</td>\n",
       "      <td>3</td>\n",
       "      <td>-0.536318</td>\n",
       "      <td>5.892310</td>\n",
       "      <td>7.829279</td>\n",
       "    </tr>\n",
       "    <tr>\n",
       "      <th>4</th>\n",
       "      <td>1516467869158</td>\n",
       "      <td>2018-01-20T17:04:29.158</td>\n",
       "      <td>3</td>\n",
       "      <td>-0.837996</td>\n",
       "      <td>5.937801</td>\n",
       "      <td>8.032792</td>\n",
       "    </tr>\n",
       "    <tr>\n",
       "      <th>5</th>\n",
       "      <td>1516467869160</td>\n",
       "      <td>2018-01-20T17:04:29.160</td>\n",
       "      <td>3</td>\n",
       "      <td>-0.677580</td>\n",
       "      <td>5.719923</td>\n",
       "      <td>8.154900</td>\n",
       "    </tr>\n",
       "    <tr>\n",
       "      <th>6</th>\n",
       "      <td>1516467869175</td>\n",
       "      <td>2018-01-20T17:04:29.175</td>\n",
       "      <td>3</td>\n",
       "      <td>-0.399844</td>\n",
       "      <td>5.478101</td>\n",
       "      <td>7.917867</td>\n",
       "    </tr>\n",
       "    <tr>\n",
       "      <th>7</th>\n",
       "      <td>1516467869315</td>\n",
       "      <td>2018-01-20T17:04:29.315</td>\n",
       "      <td>3</td>\n",
       "      <td>-0.232245</td>\n",
       "      <td>5.310502</td>\n",
       "      <td>7.728719</td>\n",
       "    </tr>\n",
       "    <tr>\n",
       "      <th>8</th>\n",
       "      <td>1516467869325</td>\n",
       "      <td>2018-01-20T17:04:29.325</td>\n",
       "      <td>3</td>\n",
       "      <td>-0.395055</td>\n",
       "      <td>5.523592</td>\n",
       "      <td>8.097438</td>\n",
       "    </tr>\n",
       "    <tr>\n",
       "      <th>9</th>\n",
       "      <td>1516467869333</td>\n",
       "      <td>2018-01-20T17:04:29.333</td>\n",
       "      <td>3</td>\n",
       "      <td>-0.660820</td>\n",
       "      <td>5.494861</td>\n",
       "      <td>8.209969</td>\n",
       "    </tr>\n",
       "  </tbody>\n",
       "</table>\n",
       "</div>"
      ],
      "text/plain": [
       "       timestamp                 UTC time  accuracy         x         y  \\\n",
       "0  1516467868973  2018-01-20T17:04:28.973         3 -0.186753  5.569083   \n",
       "1  1516467869113  2018-01-20T17:04:29.113         3 -0.383084  5.674431   \n",
       "2  1516467869133  2018-01-20T17:04:29.133         3 -0.565049  5.944984   \n",
       "3  1516467869157  2018-01-20T17:04:29.157         3 -0.536318  5.892310   \n",
       "4  1516467869158  2018-01-20T17:04:29.158         3 -0.837996  5.937801   \n",
       "5  1516467869160  2018-01-20T17:04:29.160         3 -0.677580  5.719923   \n",
       "6  1516467869175  2018-01-20T17:04:29.175         3 -0.399844  5.478101   \n",
       "7  1516467869315  2018-01-20T17:04:29.315         3 -0.232245  5.310502   \n",
       "8  1516467869325  2018-01-20T17:04:29.325         3 -0.395055  5.523592   \n",
       "9  1516467869333  2018-01-20T17:04:29.333         3 -0.660820  5.494861   \n",
       "\n",
       "          z  \n",
       "0  7.245076  \n",
       "1  7.292961  \n",
       "2  7.723930  \n",
       "3  7.829279  \n",
       "4  8.032792  \n",
       "5  8.154900  \n",
       "6  7.917867  \n",
       "7  7.728719  \n",
       "8  8.097438  \n",
       "9  8.209969  "
      ]
     },
     "execution_count": 2,
     "metadata": {},
     "output_type": "execute_result"
    }
   ],
   "source": [
    "path = \"F:/DATA/hope/1s5wlcm6/accelerometer/2018-01-20 17_00_00.csv\"\n",
    "data = pd.read_csv(path)\n",
    "data.head(10)"
   ]
  },
  {
   "cell_type": "code",
   "execution_count": 3,
   "metadata": {},
   "outputs": [],
   "source": [
    "## 1. smooth to a certain Hz\n",
    "hz = 10\n",
    "def smooth_data(data,hz):\n",
    "  stamp0 = datetime.fromtimestamp(data['timestamp'][0]/1000)\n",
    "  stamp1 = [stamp0.year,stamp0.month,stamp0.day,stamp0.hour]\n",
    "  stamp0 = np.floor(data['timestamp'][0]/1000/60/60)*60*60\n",
    "  t = np.array(data[\"timestamp\"])\n",
    "  x = np.array(data[\"x\"])\n",
    "  y = np.array(data[\"y\"])\n",
    "  z = np.array(data[\"z\"])\n",
    "  mag = np.sqrt(x**2+y**2+z**2)\n",
    "  t_diff = t[1:]-t[:-1]\n",
    "  t_active = sum(t_diff[t_diff<5*1000])\n",
    "  t_active = t_active/1000/60  ## in minute\n",
    "  a = np.floor((t - min(t))/(1/hz*1000))  ## bin\n",
    "  b = []\n",
    "  for i in np.unique(a):\n",
    "    index = a==i\n",
    "    b.append(np.mean(mag[index]))\n",
    "  b = np.array(b)\n",
    "  return stamp0,stamp1,t_active,np.unique(a)*(1/hz*1000),b"
   ]
  },
  {
   "cell_type": "code",
   "execution_count": 4,
   "metadata": {},
   "outputs": [],
   "source": [
    "stamp0,stamp1,t_active,t,mag = smooth_data(data,hz)"
   ]
  },
  {
   "cell_type": "code",
   "execution_count": 34,
   "metadata": {},
   "outputs": [],
   "source": [
    "## 2. step estimation funciton\n",
    "q = 85\n",
    "c = 1.05\n",
    "def step_est(t,mag,t_active,q,c):\n",
    "  if np.mean(mag)>8:\n",
    "    g = 9.8\n",
    "  else:\n",
    "    g = 1\n",
    "  h = max(np.percentile(mag,q),c*g)\n",
    "  step = 0\n",
    "  current = -350\n",
    "  for j in range(len(t)):\n",
    "    if(mag[j]>=h and t[j]>=current+350):\n",
    "      step = step + 1\n",
    "      current = t[j]\n",
    "  final_step = int(step/t_active*60)\n",
    "  return final_step"
   ]
  },
  {
   "cell_type": "code",
   "execution_count": 6,
   "metadata": {},
   "outputs": [
    {
     "data": {
      "text/plain": [
       "1857"
      ]
     },
     "execution_count": 6,
     "metadata": {},
     "output_type": "execute_result"
    }
   ],
   "source": [
    "step_est(t,mag,t_active,q,c)"
   ]
  },
  {
   "cell_type": "code",
   "execution_count": 28,
   "metadata": {},
   "outputs": [],
   "source": [
    "## 3. other statistics from accelerometer data\n",
    "def acc_stats(mag,hz):\n",
    "  if np.mean(mag)<8:\n",
    "    mag = 9.8*mag\n",
    "  m_mag = np.mean(mag)\n",
    "  sd_mag = np.std(mag)\n",
    "  cur_len = np.mean(abs(mag[1:]-mag[:-1]))\n",
    "  X = fftpack.fft(mag)  \n",
    "  amplitude_spectrum = np.abs(X)/hz\n",
    "  eg = sum(amplitude_spectrum**2)*hz/len(mag)**2\n",
    "  entropy = stats.entropy(mag)\n",
    "  return [m_mag,sd_mag,cur_len,eg,entropy]"
   ]
  },
  {
   "cell_type": "code",
   "execution_count": 29,
   "metadata": {},
   "outputs": [
    {
     "data": {
      "text/plain": [
       "[9.90077849773792,\n",
       " 0.8550554806154826,\n",
       " 0.4424653997168446,\n",
       " 9.875653473620146,\n",
       " 8.677132504256651]"
      ]
     },
     "execution_count": 29,
     "metadata": {},
     "output_type": "execute_result"
    }
   ],
   "source": [
    "others = acc_stats(mag,hz)\n",
    "others"
   ]
  },
  {
   "cell_type": "code",
   "execution_count": 9,
   "metadata": {},
   "outputs": [],
   "source": [
    "## wrap up every thing\n",
    "hz = 10; q = 75; c = 1.05\n",
    "def GetAccStats(stamp0,stamp1,t_active,t,mag,hz,q,c):\n",
    "  steps = step_est(t,mag,t_active,q,c)\n",
    "  others = others = acc_stats(mag,hz)\n",
    "  result = [stamp0,stamp1[0],stamp1[1],stamp1[2],stamp1[3],t_active,steps,\n",
    "            others[0],others[1],others[2],others[3],others[4]]\n",
    "  return np.array(result)"
   ]
  },
  {
   "cell_type": "code",
   "execution_count": 10,
   "metadata": {},
   "outputs": [
    {
     "data": {
      "text/plain": [
       "array([1.51646760e+09, 2.01800000e+03, 1.00000000e+00, 2.00000000e+01,\n",
       "       1.20000000e+01, 9.88225000e+00, 1.85700000e+03, 9.90077850e+00,\n",
       "       8.55055481e-01, 1.86141304e+00, 9.87565347e+00, 8.67713250e+00])"
      ]
     },
     "execution_count": 10,
     "metadata": {},
     "output_type": "execute_result"
    }
   ],
   "source": [
    "GetAccStats(stamp0,stamp1,t_active,t,mag,hz,q,c)\n",
    "## year,month,day,hour,active_min,steps,mean_mag,sd_mag,curve_length,energy,entropy"
   ]
  },
  {
   "cell_type": "code",
   "execution_count": 11,
   "metadata": {},
   "outputs": [],
   "source": [
    "path = \"F:/DATA/hope/1s5wlcm6/accelerometer\"\n",
    "def patient_stats(path,hz,q,c):\n",
    "  files = os.listdir(path)\n",
    "  result = []\n",
    "  for i in range(len(files)):\n",
    "    dest_path = path + \"/\" + files[i]\n",
    "    data = pd.read_csv(dest_path)\n",
    "    stamp0,stamp1,t_active,t,mag = smooth_data(data,hz)\n",
    "    if t_active>1:\n",
    "      result.append(GetAccStats(stamp0,stamp1,t_active,t,mag,hz,q,c))\n",
    "  result = np.array(result)\n",
    "  return result"
   ]
  },
  {
   "cell_type": "code",
   "execution_count": 12,
   "metadata": {},
   "outputs": [
    {
     "data": {
      "text/plain": [
       "array([[ 1.51637760e+09,  2.01800000e+03,  1.00000000e+00, ...,\n",
       "        -1.11184866e+00,  9.92051264e+00,  8.01004097e+00],\n",
       "       [ 1.51638120e+09,  2.01800000e+03,  1.00000000e+00, ...,\n",
       "         9.13242009e-03,  9.81261037e+00,  8.09626621e+00],\n",
       "       [ 1.51638480e+09,  2.01800000e+03,  1.00000000e+00, ...,\n",
       "         1.90438247e+00,  9.75395378e+00,  8.23239017e+00],\n",
       "       ...,\n",
       "       [ 1.52704440e+09,  2.01800000e+03,  5.00000000e+00, ...,\n",
       "        -1.26262626e-02,  9.95223647e+00,  8.62044175e+00],\n",
       "       [ 1.52704800e+09,  2.01800000e+03,  5.00000000e+00, ...,\n",
       "         1.69934641e+00,  1.00295012e+01,  6.12904960e+00],\n",
       "       [ 1.52705520e+09,  2.01800000e+03,  5.00000000e+00, ...,\n",
       "         5.17063082e-03,  1.01197642e+01,  8.26049044e+00]])"
      ]
     },
     "execution_count": 12,
     "metadata": {},
     "output_type": "execute_result"
    }
   ],
   "source": [
    "p_stats = patient_stats(path,hz,q,c)\n",
    "p_stats"
   ]
  },
  {
   "cell_type": "code",
   "execution_count": 13,
   "metadata": {},
   "outputs": [],
   "source": [
    "def hour_range(h1,h2):\n",
    "  if h1 + h2 > 23:\n",
    "    out = np.arange(0,h1+h2-24+1)\n",
    "    out = np.append(out,np.arange(h1-h2,24))\n",
    "  elif h1 - h2 < 0:\n",
    "    out = np.arange(h1-h2+24,24)\n",
    "    out = np.append(out,np.arange(0,h1+h2+1))\n",
    "  else:\n",
    "    out = np.arange(h1-h2,h1+h2+1)\n",
    "  return out"
   ]
  },
  {
   "cell_type": "code",
   "execution_count": 14,
   "metadata": {},
   "outputs": [],
   "source": [
    "def check_exist(a1,a2):\n",
    "  b = np.zeros(len(a1))\n",
    "  for i in range(len(a1)):\n",
    "    if sum(a1[i]==a2)>0:\n",
    "      b[i] = 1\n",
    "  return np.array(b,dtype=bool)"
   ]
  },
  {
   "cell_type": "code",
   "execution_count": 15,
   "metadata": {},
   "outputs": [],
   "source": [
    "def fill_missing(p_stats):\n",
    "  full_stats = []\n",
    "  start_t = p_stats[0,0]\n",
    "  end_t = p_stats[-1,0]\n",
    "  k = int((end_t - start_t)/3600 + 1)\n",
    "  j = 0\n",
    "  for i in range(k):\n",
    "    current_t = start_t + 3600*i\n",
    "    if current_t == p_stats[j,0]:\n",
    "      full_stats.append(p_stats[j,:])\n",
    "      j = j + 1\n",
    "    else:\n",
    "      t = datetime.fromtimestamp(current_t)\n",
    "      if sum(t.hour==p_stats[:,4])>15:\n",
    "        candidates = p_stats[p_stats[:,4]==t.hour,:]\n",
    "      else:\n",
    "        index = check_exist(p_stats[:,4],hour_range(t.hour,2))\n",
    "        if sum(index)<15:\n",
    "          index = np.arange(p_stats.shape[0])\n",
    "        candidates = p_stats[index,:]\n",
    "      r = np.random.randint(candidates.shape[1])\n",
    "      temp = [[current_t,t.year,t.month,t.day,t.hour,0],candidates[r,np.arange(6,12)].tolist()]\n",
    "      newline = np.array(list(itertools.chain(*temp)))\n",
    "      full_stats.append(newline) \n",
    "  return np.array(full_stats)"
   ]
  },
  {
   "cell_type": "code",
   "execution_count": 16,
   "metadata": {},
   "outputs": [],
   "source": [
    "full_stats = fill_missing(p_stats)"
   ]
  },
  {
   "cell_type": "code",
   "execution_count": 17,
   "metadata": {},
   "outputs": [],
   "source": [
    "def hour2day(full_stats):\n",
    "  daily_stats = []\n",
    "  t = full_stats[:,0]\n",
    "  days = t/(60*60*24)\n",
    "  start_day = np.ceil(days[0])\n",
    "  end_day = np.floor(days[-1])\n",
    "  for i in np.arange(start_day,end_day+1):\n",
    "    temp = full_stats[(days>=i)*(days<i+1)]\n",
    "    newline = np.append(temp[0,np.arange(1,4)],np.sum(temp[:,np.arange(5,12)],axis=0))\n",
    "    daily_stats.append(newline)\n",
    "  return np.array(daily_stats)"
   ]
  },
  {
   "cell_type": "code",
   "execution_count": 18,
   "metadata": {},
   "outputs": [
    {
     "data": {
      "text/plain": [
       "array([[ 2.01800000e+03,  1.00000000e+00,  1.90000000e+01, ...,\n",
       "         5.43333170e+00,  2.36172419e+02,  1.82514679e+02],\n",
       "       [ 2.01800000e+03,  1.00000000e+00,  2.00000000e+01, ...,\n",
       "        -5.07990820e+00,  2.37181949e+02,  1.83807498e+02],\n",
       "       [ 2.01800000e+03,  1.00000000e+00,  2.10000000e+01, ...,\n",
       "        -1.50715261e-01,  2.38409308e+02,  1.85536268e+02],\n",
       "       ...,\n",
       "       [ 2.01800000e+03,  5.00000000e+00,  2.00000000e+01, ...,\n",
       "         7.62287036e+00,  2.35182381e+02,  1.81215428e+02],\n",
       "       [ 2.01800000e+03,  5.00000000e+00,  2.10000000e+01, ...,\n",
       "        -4.43458949e+00,  2.38894523e+02,  1.84876468e+02],\n",
       "       [ 2.01800000e+03,  5.00000000e+00,  2.20000000e+01, ...,\n",
       "         4.06484975e-01,  6.91247694e+01,  5.22532643e+01]])"
      ]
     },
     "execution_count": 18,
     "metadata": {},
     "output_type": "execute_result"
    }
   ],
   "source": [
    "daily_stats = hour2day(full_stats)\n",
    "daily_stats"
   ]
  },
  {
   "cell_type": "code",
   "execution_count": 33,
   "metadata": {},
   "outputs": [],
   "source": [
    "def summarize_acc(input_path,output_path,option,hz=10,q=75,c=1.05):\n",
    "  user_list = os.listdir(input_path)\n",
    "  if option == \"both\":\n",
    "    os.mkdir(output_path+\"/hourly\")\n",
    "    os.mkdir(output_path+\"/daily\")\n",
    "  for i in range(len(user_list)):\n",
    "    sys.stdout.write( \"Processing data from \"+ user_list[i]  + '\\n')\n",
    "    acc_path = input_path + \"/\" + user_list[i] +\"/accelerometer\"\n",
    "    if os.path.isdir(acc_path):\n",
    "      p_stats = patient_stats(acc_path,hz,q,c)\n",
    "      full_stats = fill_missing(p_stats)\n",
    "      if option == \"hourly\":\n",
    "        full_stats = full_stats[:,1:]\n",
    "        full_stats = pd.DataFrame(full_stats)\n",
    "        full_stats.columns = [\"year\",\"month\",\"day\",\"hour\",\"active_min\",\"steps\",\"mean_mag\",\"sd_mag\",\n",
    "                              \"cur_len\",\"energy\",\"entropy\"]\n",
    "        dest_path = output_path + \"/\" + user_list[i] + \"_hourly_acc.csv\"\n",
    "        full_stats.to_csv(dest_path,index=False)\n",
    "      if option == \"daily\":\n",
    "        daily_stats = hour2day(full_stats)\n",
    "        daily_stats = pd.DataFrame(daily_stats)\n",
    "        daily_stats.columns = [\"year\",\"month\",\"day\",\"active_min\",\"steps\",\"mean_mag\",\"sd_mag\",\n",
    "                              \"cur_len\",\"energy\",\"entropy\"]\n",
    "        dest_path = output_path + \"/\" + user_list[i] + \"_daily_acc.csv\"\n",
    "        daily_stats.to_csv(dest_path,index=False)\n",
    "      if option == \"both\":\n",
    "        output_path1 = output_path+\"/hourly\"\n",
    "        output_path2 = output_path+\"/daily\"\n",
    "        daily_stats = hour2day(full_stats)\n",
    "        daily_stats = pd.DataFrame(daily_stats)\n",
    "        daily_stats.columns = [\"year\",\"month\",\"day\",\"active_min\",\"steps\",\"mean_mag\",\"sd_mag\",\n",
    "                              \"cur_len\",\"energy\",\"entropy\"]\n",
    "        dest_path = output_path2 + \"/\" + user_list[i] + \"_daily_acc.csv\"\n",
    "        daily_stats.to_csv(dest_path,index=False)\n",
    "        full_stats = full_stats[:,1:]\n",
    "        full_stats = pd.DataFrame(full_stats)\n",
    "        full_stats.columns = [\"year\",\"month\",\"day\",\"hour\",\"active_min\",\"steps\",\"mean_mag\",\"sd_mag\",\n",
    "                              \"cur_len\",\"energy\",\"entropy\"]\n",
    "        dest_path = output_path1 + \"/\" + user_list[i] + \"_hourly_acc.csv\"\n",
    "        full_stats.to_csv(dest_path,index=False)\n",
    "    sys.stdout.write( \"Done\" + '\\n')"
   ]
  },
  {
   "cell_type": "code",
   "execution_count": null,
   "metadata": {},
   "outputs": [],
   "source": []
  }
 ],
 "metadata": {
  "kernelspec": {
   "display_name": "Python 3",
   "language": "python",
   "name": "python3"
  },
  "language_info": {
   "codemirror_mode": {
    "name": "ipython",
    "version": 3
   },
   "file_extension": ".py",
   "mimetype": "text/x-python",
   "name": "python",
   "nbconvert_exporter": "python",
   "pygments_lexer": "ipython3",
   "version": "3.6.6"
  }
 },
 "nbformat": 4,
 "nbformat_minor": 2
}
