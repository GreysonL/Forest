{
 "cells": [
  {
   "cell_type": "markdown",
   "metadata": {},
   "source": [
    "Josh Barback  \n",
    "`barback@fas.harvard.edu`  \n",
    "Onnela Lab, Harvard T. H. Chan School of Public Health  "
   ]
  },
  {
   "cell_type": "markdown",
   "metadata": {},
   "source": [
    "# logging demo\n",
    "\n",
    "The `logging` package is part of of the Python Standard Library.\n",
    "\n",
    "The scripts `demo_function` and `demo_wrapper` have associated logger objects.  Here are some examples that illustrate:\n",
    "    \n",
    "*  Monitoring log messages,\n",
    "*  Writing messages to a text file,\n",
    "*  Formatting messages.\n",
    "\n",
    "Resources:\n",
    "\n",
    "* [Documentation](https://docs.python.org/3/library/logging.html)\n",
    "* [Tutorial](https://docs.python.org/3/howto/logging.html)\n",
    "* [Message attributes](https://docs.python.org/3.8/library/logging.html?highlight=logging#logrecord-attributes)\n"
   ]
  },
  {
   "cell_type": "code",
   "execution_count": 1,
   "metadata": {},
   "outputs": [],
   "source": [
    "# Import wrapper:\n",
    "from demo_wrapper import wrapper\n",
    "# Note:  Even though we only import the wrapper, we get loggers for both scripts."
   ]
  },
  {
   "cell_type": "code",
   "execution_count": 2,
   "metadata": {},
   "outputs": [
    {
     "name": "stderr",
     "output_type": "stream",
     "text": [
      "Unable to divide.\n",
      "Serious problem at time 1592908425.7690701.\n",
      "Critical problem!\n"
     ]
    },
    {
     "data": {
      "text/plain": [
       "[None, 1.0, 0.5]"
      ]
     },
     "execution_count": 2,
     "metadata": {},
     "output_type": "execute_result"
    }
   ],
   "source": [
    "# WARNING, ERROR, CRITICAL message text is output to the console:\n",
    "wrapper([0, 1, 2])"
   ]
  },
  {
   "cell_type": "code",
   "execution_count": 3,
   "metadata": {},
   "outputs": [
    {
     "name": "stderr",
     "output_type": "stream",
     "text": [
      "WARNING:demo_function:Unable to divide.\n",
      "ERROR:demo_function:Serious problem at time 1592908426.2952335.\n",
      "CRITICAL:demo_function:Critical problem!\n"
     ]
    },
    {
     "data": {
      "text/plain": [
       "[None, 1.0, 0.5]"
      ]
     },
     "execution_count": 3,
     "metadata": {},
     "output_type": "execute_result"
    }
   ],
   "source": [
    "# Show detailed messages:\n",
    "import logging\n",
    "# Create a log handler with default configuration:\n",
    "logging.basicConfig()\n",
    "# Note:  By default, a handler only reports messages for WARNING, ERROR, CRITICAL.\n",
    "\n",
    "wrapper([0, 1, 2])"
   ]
  },
  {
   "cell_type": "code",
   "execution_count": 4,
   "metadata": {},
   "outputs": [
    {
     "name": "stderr",
     "output_type": "stream",
     "text": [
      "INFO:demo_wrapper:Begin\n",
      "DEBUG:demo_function:Might be a problem when dividing by 0.\n",
      "WARNING:demo_function:Unable to divide.\n",
      "ERROR:demo_function:Serious problem at time 1592908427.344596.\n",
      "CRITICAL:demo_function:Critical problem!\n",
      "INFO:demo_wrapper:End\n"
     ]
    },
    {
     "data": {
      "text/plain": [
       "[None, 1.0, 0.5]"
      ]
     },
     "execution_count": 4,
     "metadata": {},
     "output_type": "execute_result"
    }
   ],
   "source": [
    "# Show details for ALL messages:\n",
    "logging.basicConfig(level = logging.DEBUG, force = True)\n",
    "# Note:  The force argument is only necessary if a handler already exists.\n",
    "\n",
    "wrapper([0, 1, 2])"
   ]
  },
  {
   "cell_type": "code",
   "execution_count": 5,
   "metadata": {},
   "outputs": [
    {
     "data": {
      "text/plain": [
       "[None, 1.0, 0.5]"
      ]
     },
     "execution_count": 5,
     "metadata": {},
     "output_type": "execute_result"
    }
   ],
   "source": [
    "# Export details to a text file:\n",
    "logging.basicConfig(filename = 'demo_log.txt',level = logging.DEBUG, force = True)\n",
    "# Notes:  \n",
    "#     The force argument is only necessary if a handler already exists.\n",
    "#     By default, messages are appended to the text file if it already exists.\n",
    "#     Add filemode = 'w' to overwrite old logs.\n",
    "\n",
    "wrapper([0, 1, 2])"
   ]
  },
  {
   "cell_type": "code",
   "execution_count": 6,
   "metadata": {},
   "outputs": [
    {
     "name": "stdout",
     "output_type": "stream",
     "text": [
      "INFO:demo_wrapper:Begin\n",
      "\n",
      "DEBUG:demo_function:Might be a problem when dividing by 0.\n",
      "\n",
      "WARNING:demo_function:Unable to divide.\n",
      "\n",
      "ERROR:demo_function:Serious problem at time 1592908428.4822419.\n",
      "\n",
      "CRITICAL:demo_function:Critical problem!\n",
      "\n",
      "INFO:demo_wrapper:End\n",
      "\n"
     ]
    }
   ],
   "source": [
    "# Review the log file:\n",
    "with open('demo_log.txt', 'r') as file:\n",
    "  for line in file:  print(line)"
   ]
  },
  {
   "cell_type": "code",
   "execution_count": 7,
   "metadata": {},
   "outputs": [
    {
     "name": "stderr",
     "output_type": "stream",
     "text": [
      "1592908432.019370 INFO     wrapper      Begin\n",
      "1592908432.021339 DEBUG    try_inverse  Might be a problem when dividing by 0.\n",
      "1592908432.022306 WARNING  try_inverse  Unable to divide.\n",
      "1592908432.023618 ERROR    try_inverse  Serious problem at time 1592908432.0235837.\n",
      "1592908432.024400 CRITICAL try_inverse  Critical problem!\n",
      "1592908432.025925 INFO     wrapper      End\n"
     ]
    },
    {
     "data": {
      "text/plain": [
       "[None, 1.0, 0.5]"
      ]
     },
     "execution_count": 7,
     "metadata": {},
     "output_type": "execute_result"
    }
   ],
   "source": [
    "# Custom format for messages:\n",
    "format = '%(created)f %(levelname)-8s %(funcName)-12s %(message)s'\n",
    "# can also include line numbers, file path, etc.\n",
    "logging.basicConfig(format = format, level = logging.DEBUG, force = True)\n",
    "\n",
    "wrapper([0, 1, 2])"
   ]
  },
  {
   "cell_type": "code",
   "execution_count": 8,
   "metadata": {},
   "outputs": [
    {
     "name": "stdout",
     "output_type": "stream",
     "text": [
      "Task finished in 0.000839 seconds.\n"
     ]
    }
   ],
   "source": [
    "# Use logging for benchmarks:\n",
    "logging.basicConfig(format = format, \n",
    "                    filename = 'demo_log.txt', filemode = 'w',\n",
    "                    level = logging.DEBUG, force = True)\n",
    "\n",
    "# run the task:\n",
    "results = wrapper(range(1000))\n",
    "\n",
    "# get timestamps:\n",
    "with open('demo_log.txt', 'r') as file:\n",
    "  for line in file:  \n",
    "    if \"Begin\" in line: \n",
    "        begin = float(line.split(' ')[0])\n",
    "    elif \"End\" in line: \n",
    "        end = float(line.split(' ')[0])\n",
    "\n",
    "# get elapsed time:        \n",
    "bench = 'Task finished in %f seconds.' % (end - begin)\n",
    "print(bench)"
   ]
  }
 ],
 "metadata": {
  "kernelspec": {
   "display_name": "Python 3",
   "language": "python",
   "name": "python3"
  },
  "language_info": {
   "codemirror_mode": {
    "name": "ipython",
    "version": 3
   },
   "file_extension": ".py",
   "mimetype": "text/x-python",
   "name": "python",
   "nbconvert_exporter": "python",
   "pygments_lexer": "ipython3",
   "version": "3.8.3"
  }
 },
 "nbformat": 4,
 "nbformat_minor": 2
}
